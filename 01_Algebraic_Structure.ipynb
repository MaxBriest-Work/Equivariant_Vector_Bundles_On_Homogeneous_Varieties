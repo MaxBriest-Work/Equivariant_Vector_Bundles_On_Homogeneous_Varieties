{
 "cells": [
  {
   "cell_type": "code",
   "execution_count": 3,
   "metadata": {
    "collapsed": false
   },
   "outputs": [
   ],
   "source": [
    "#from __future__ import annotations\n",
    "from typing import Iterator"
   ]
  },
  {
   "cell_type": "code",
   "execution_count": 4,
   "metadata": {
    "collapsed": false
   },
   "outputs": [
   ],
   "source": [
    "class Algebraic_Structure ( object ) :\n",
    "\n",
    "    def __eq__ ( self , other:\"Algebraic_Structure\" ) -> bool :\n",
    "        \"\"\"Tests if two objects of the same class and if they coincide.\"\"\"\n",
    "        if isinstance( other , self.__class__ ) :\n",
    "            if self.__repr__() == other.__repr__() : return True\n",
    "            else : return False\n",
    "        else : return False\n",
    "\n",
    "\n",
    "    def __getitem__ ( self , Input:int or slice ) -> \"Algebraic_Structure\" or list[ \"Algebraic_Structure\" ] :\n",
    "        \"\"\"Returns a single datum or slices of data.\"\"\"\n",
    "        if Input in ZZ :\n",
    "            Index = Input\n",
    "            if   Index <= -len(self)-1 :         return None\n",
    "            elif Index in [ -len(self) .. -1 ] : Index += len(self)\n",
    "            elif Index in [ 0 .. len(self) ] :   pass\n",
    "            else :                               return None\n",
    "            Single_Part = self.Constituent_Parts()[Index]\n",
    "            return Single_Part\n",
    "\n",
    "        elif isinstance( Input , slice ) :\n",
    "            Slice = Input\n",
    "            New_Constituent_Parts = self.Constituent_Parts()[Slice]\n",
    "            if   len(New_Constituent_Parts) == 0 :\n",
    "                return None\n",
    "            elif len(New_Constituent_Parts) == 1 :\n",
    "                Single_Part = New_Constituent_Parts[0]\n",
    "                return Single_Part\n",
    "            else :\n",
    "                return self.__class__( New_Constituent_Parts )\n",
    "\n",
    "        else :\n",
    "            raise ValueError('The variable ``Input`` is inappropriate.')\n",
    "\n",
    "\n",
    "    def __ne__ ( self , other:\"Algebraic_Structure\" ) -> bool :\n",
    "        \"\"\"Tests if two objects do not coincide.\"\"\"\n",
    "        return not self == other\n",
    "\n",
    "\n",
    "    def Is_Irreducible ( self ) -> bool :\n",
    "        \"\"\"Tests if ``self`` is irreducible/ simple.\"\"\"\n",
    "        return len(self) == 1\n",
    "\n",
    "\n",
    "    def Is_Not_Trivial ( self ) -> bool :\n",
    "        \"\"\"Tests if ``self`` is not trivial.\"\"\"\n",
    "        return not self.Is_Trivial()\n",
    "\n",
    "\n",
    "    def Is_Reducible ( self ) -> bool :\n",
    "        \"\"\"Tests if ``self`` is reducible/ non-simple, i.e. it is trivial/ zero or consists of multiple summands/ components.\"\"\"\n",
    "        return not self.Is_Irreducible()\n",
    "\n",
    "\n",
    "    # Synonyms for the method ``Is_Irreducible``\n",
    "    def Is_Simple ( self ) -> bool :\n",
    "        \"\"\"Tests if ``self`` is irreducible/ simple, i.e. consists only of a single summand/ component.\"\"\"\n",
    "        return self.Is_Irreducible()\n",
    "\n",
    "\n",
    "    def Is_Trivial ( self ) -> bool :\n",
    "        \"\"\"Tests if ``self`` has no components.\"\"\"\n",
    "        return len(self) == 0\n"
   ]
  },
  {
   "cell_type": "code",
   "execution_count": 82,
   "metadata": {
    "collapsed": false
   },
   "outputs": [
   ],
   "source": [
    "class Irreducible_Algebraic_Structure ( object ) :\n",
    "\n",
    "    def __iter__ ( self ) -> Iterator[ \"Irreducible_Algebraic_Structure\" ] :\n",
    "        \"\"\"Returns an iterator of ``self``.\"\"\"\n",
    "        yield self\n",
    "\n",
    "\n",
    "    def __len__ ( self ) -> int :\n",
    "        \"\"\"Returns the number of components of ``self``.\"\"\"\n",
    "        return 1\n",
    "\n",
    "\n",
    "    def Constituent_Parts ( self ) -> list[ \"Irreducible_Algebraic_Structure\" ] :\n",
    "        \"\"\"Returns ``self`` in a list .\"\"\"\n",
    "        return [ self ]\n",
    "\n",
    "\n",
    "    def Irreducible_Components ( self ) -> Iterator[ \"Irreducible_Algebraic_Structure\" ] :\n",
    "        \"\"\"Returns ``self``.\"\"\"\n",
    "        yield self\n"
   ]
  },
  {
   "cell_type": "code",
   "execution_count": 83,
   "metadata": {
    "collapsed": false
   },
   "outputs": [
   ],
   "source": [
    "class Direct_Sum_Of_Algebraic_Structures ( Algebraic_Structure ) :\n",
    "\n",
    "    def __eq__ ( self , other:\"Direct_Sum_Of_Algebraic_Structures\" ) -> bool :\n",
    "        \"\"\"Tests if two objects of the class ``Direct_Sum_Of_Algebraic_Structures`` coincide.\"\"\"\n",
    "        if type( other ) == self.__class__ :\n",
    "            if len( other ) == len( self ) :\n",
    "\n",
    "                Remaining_Summands = other.Summands()\n",
    "                for Summand in self.Summands() :\n",
    "                    try : Remaining_Summands.remove( Summand )\n",
    "                    except : return False\n",
    "\n",
    "                if len( Remaining_Summands ) == 0 : return True\n",
    "\n",
    "                else : return False\n",
    "            else : return False\n",
    "        else : return False\n",
    "\n",
    "\n",
    "    def __iter__ ( self ) -> Iterator[ Algebraic_Structure ] :\n",
    "        \"\"\"Returns an iterator of ``self``.\"\"\"\n",
    "        for Summand in self.Summands() :\n",
    "            yield Summand\n",
    "\n",
    "\n",
    "    def __len__ ( self ) -> int :\n",
    "        \"\"\"Returns the number of components of ``self``.\"\"\"\n",
    "        return len( self.Summands() )\n",
    "\n",
    "\n",
    "    def Constituent_Parts ( self ) -> list[ Algebraic_Structure ] :\n",
    "        \"\"\"Returns the summands of ``self`` as list.\"\"\"\n",
    "        return self.Summands()\n",
    "\n",
    "\n",
    "    def Irreducible_Components ( self ) -> Iterator[ Irreducible_Algebraic_Structure ] :\n",
    "        \"\"\"Returns the irreducible components of ``self`` as list.\"\"\"\n",
    "        for Summand in self.Summands() :\n",
    "            for Irreducible_Component in Summand.Irreducible_Components() :\n",
    "                yield Irreducible_Component\n",
    "\n",
    "\n",
    "    def Summands ( self ) -> list[ Algebraic_Structure ] :\n",
    "        \"\"\"Returns the attribute ``_Summands``.\"\"\"\n",
    "        return self._Summands\n"
   ]
  },
  {
   "cell_type": "code",
   "execution_count": 84,
   "metadata": {
    "collapsed": false
   },
   "outputs": [
   ],
   "source": [
    "class Extension_Of_Algebraic_Structures ( Algebraic_Structure ) :\n",
    "\n",
    "    def __iter__ ( self ) -> Iterator[ Algebraic_Structure ] :\n",
    "        \"\"\"Returns an iterator of ``self``.\"\"\"\n",
    "        for Part in self.Constituent_Parts() :\n",
    "            yield Part\n",
    "\n",
    "\n",
    "    def __len__ ( self ) -> int :\n",
    "        \"\"\"Returns the number of constituent parts of ``self``.\"\"\"\n",
    "        return 2\n",
    "\n",
    "\n",
    "    def Constituent_Parts ( self ) -> \"Extension_Of_Algebraic_Structures\" :\n",
    "        \"\"\"Returns the summands of ``self`` as list.\"\"\"\n",
    "        return [ self ]\n",
    "\n",
    "\n",
    "    def Irreducible_Components ( self ) -> Iterator[ Irreducible_Algebraic_Structure ] :\n",
    "        \"\"\"Returns the attribute ``_Components``.\"\"\"\n",
    "        for Component in [ self.Quotient() , self.Subobject() ] :\n",
    "            for Irreducible_Component in Component.Irreducible_Components() :\n",
    "                yield Irreducible_Component\n",
    "\n",
    "\n",
    "    def Quotient ( self ) -> Algebraic_Structure :\n",
    "        \"\"\"Returns the attribute ``_Quotient``.\"\"\"\n",
    "        return self._Quotient\n",
    "\n",
    "\n",
    "    def Subobject ( self ) -> Algebraic_Structure :\n",
    "        \"\"\"Returns the attribute ``_Subobject``.\"\"\"\n",
    "        return self._Subobject\n"
   ]
  },
  {
   "cell_type": "code",
   "execution_count": 0,
   "metadata": {
    "collapsed": false
   },
   "outputs": [
   ],
   "source": [
   ]
  },
  {
   "cell_type": "code",
   "execution_count": 0,
   "metadata": {
    "collapsed": false
   },
   "outputs": [
   ],
   "source": [
   ]
  },
  {
   "cell_type": "code",
   "execution_count": 0,
   "metadata": {
    "collapsed": false
   },
   "outputs": [
   ],
   "source": [
   ]
  }
 ],
 "metadata": {
  "kernelspec": {
   "argv": [
    "sage-9.8",
    "--python",
    "-m",
    "sage.repl.ipython_kernel",
    "--matplotlib=inline",
    "-f",
    "{connection_file}"
   ],
   "display_name": "SageMath 9.8",
   "env": {
   },
   "language": "sagemath",
   "metadata": {
    "cocalc": {
     "description": "Open-source mathematical software system",
     "priority": 1,
     "url": "https://www.sagemath.org/"
    }
   },
   "name": "sage-9.8",
   "resource_dir": "/ext/jupyter/kernels/sage-9.8"
  },
  "language_info": {
   "codemirror_mode": {
    "name": "ipython",
    "version": 3
   },
   "file_extension": ".py",
   "mimetype": "text/x-python",
   "name": "python",
   "nbconvert_exporter": "python",
   "pygments_lexer": "ipython3",
   "version": "3.11.1"
  }
 },
 "nbformat": 4,
 "nbformat_minor": 4
}